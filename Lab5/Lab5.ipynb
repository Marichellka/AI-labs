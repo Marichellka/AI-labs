{
 "cells": [
  {
   "cell_type": "markdown",
   "metadata": {},
   "source": [
    "# Lab 5 (Hopfield Networks)\n",
    "IP-01 Kovalenko M., Kapshuk M."
   ]
  },
  {
   "cell_type": "markdown",
   "metadata": {},
   "source": [
    "## Prepare"
   ]
  },
  {
   "cell_type": "code",
   "execution_count": 34,
   "metadata": {},
   "outputs": [],
   "source": [
    "import numpy as np\n",
    "import matplotlib.pyplot as plt\n",
    "import copy"
   ]
  },
  {
   "cell_type": "code",
   "execution_count": 35,
   "metadata": {
    "code_folding": [
     1,
     7,
     39
    ]
   },
   "outputs": [],
   "source": [
    "# Useful functions\n",
    "def Thresh(x):\n",
    "    val = np.ones_like(x)\n",
    "    val[x < 0] = -1.\n",
    "    return val\n",
    "\n",
    "def Hamming(x, y):\n",
    "    d = []\n",
    "    for xx, yy in zip(x,y):\n",
    "        dd = 0.\n",
    "        for xxx,yyy in zip(xx,yy):\n",
    "            if xxx * yyy < 0:\n",
    "                dd += 1.\n",
    "        d.append(dd)\n",
    "    return d\n",
    "\n",
    "def Damage(x, p = 0.1):\n",
    "    y = copy.deepcopy(x)\n",
    "    for yy in y:\n",
    "        for k in range(len(yy)):\n",
    "            if np.random.rand() < p:\n",
    "                yy[k] = np.random.randint(2) * 2 - 1\n",
    "    return y"
   ]
  },
  {
   "cell_type": "markdown",
   "metadata": {},
   "source": [
    "## Load dataset"
   ]
  },
  {
   "cell_type": "code",
   "execution_count": 36,
   "metadata": {},
   "outputs": [],
   "source": [
    "# 4 Orthogonal Vectors\n",
    "X = np.array([[ 1,  1,  1,  1,  1,  1,  1,  1, -1, -1, -1, -1, -1, -1, -1, -1],\n",
    "              [ 1,  1,  1,  1, -1, -1, -1, -1,  1,  1,  1,  1, -1, -1, -1, -1],\n",
    "              [ 1, -1,  1, -1,  1, -1,  1, -1,  1, -1,  1, -1,  1, -1,  1, -1],\n",
    "              [ 1,  1, -1, -1,  1,  1, -1, -1,  1,  1, -1, -1,  1,  1, -1, -1],\n",
    "             ])\n",
    "N = np.shape(X)[1]\n",
    "n = 4"
   ]
  },
  {
   "cell_type": "code",
   "execution_count": 37,
   "metadata": {},
   "outputs": [
    {
     "data": {
      "text/plain": [
       "(4, 16)"
      ]
     },
     "execution_count": 37,
     "metadata": {},
     "output_type": "execute_result"
    }
   ],
   "source": [
    "X.shape"
   ]
  },
  {
   "cell_type": "markdown",
   "metadata": {},
   "source": [
    "## Set up network"
   ]
  },
  {
   "cell_type": "code",
   "execution_count": 38,
   "metadata": {},
   "outputs": [
    {
     "name": "stdout",
     "output_type": "stream",
     "text": [
      "[[16  0  0  0]\n",
      " [ 0 16  0  0]\n",
      " [ 0  0 16  0]\n",
      " [ 0  0  0 16]]\n"
     ]
    }
   ],
   "source": [
    "# (Pseudo-)Orthogonality\n",
    "print(X@X.T)"
   ]
  },
  {
   "cell_type": "code",
   "execution_count": 39,
   "metadata": {},
   "outputs": [],
   "source": [
    "# Connection weights and biases\n",
    "b = np.zeros((1, N))\n",
    "b = np.sum(X, axis=0) / n\n",
    "W = (X.T @ X) / n - np.eye(N)"
   ]
  },
  {
   "cell_type": "code",
   "execution_count": 40,
   "metadata": {},
   "outputs": [
    {
     "data": {
      "text/plain": [
       "(-0.5, 15.5, 15.5, -0.5)"
      ]
     },
     "execution_count": 40,
     "metadata": {},
     "output_type": "execute_result"
    },
    {
     "data": {
      "image/png": "[encoded data removed]",
      "text/plain": [
       "<Figure size 640x480 with 1 Axes>"
      ]
     },
     "metadata": {},
     "output_type": "display_data"
    }
   ],
   "source": [
    "plt.imshow(W, cmap='gray')\n",
    "plt.axis('off')"
   ]
  },
  {
   "cell_type": "code",
   "execution_count": 41,
   "metadata": {},
   "outputs": [],
   "source": [
    "def Update(W, x, b):\n",
    "    xnew = x @ W - b\n",
    "    return Thresh(xnew)"
   ]
  },
  {
   "cell_type": "markdown",
   "metadata": {},
   "source": [
    "## Test"
   ]
  },
  {
   "cell_type": "code",
   "execution_count": 42,
   "metadata": {
    "code_folding": [
     0
    ]
   },
   "outputs": [
    {
     "name": "stdout",
     "output_type": "stream",
     "text": [
      "Class 3 with [6.0] errors\n",
      "[[-1  1  1 -1  1  1 -1  1  1 -1 -1 -1  1 -1  1 -1]]\n"
     ]
    }
   ],
   "source": [
    "# Perturbed memory\n",
    "k = np.random.randint(len(X))\n",
    "Y = Damage(X , p = 0.4)\n",
    "x = Y[k:k+1,]\n",
    "err = Hamming(x, X[k:k+1,:])\n",
    "print('Class '+str(k)+' with '+str(err)+' errors')\n",
    "x_orig = copy.deepcopy(x)\n",
    "print(x_orig)"
   ]
  },
  {
   "cell_type": "markdown",
   "metadata": {},
   "source": [
    "## Iterate Network (to steady state)"
   ]
  },
  {
   "cell_type": "code",
   "execution_count": 43,
   "metadata": {},
   "outputs": [
    {
     "name": "stdout",
     "output_type": "stream",
     "text": [
      "[[-1  1  1 -1  1  1 -1  1  1 -1 -1 -1  1 -1  1 -1]]\n",
      "[9.0]\n",
      "[[ 1. -1. -1. -1.  1.  1.  1. -1. -1. -1. -1. -1.  1.  1. -1.  1.]]\n",
      "[3.0]\n",
      "[[-1. -1. -1. -1.  1.  1.  1.  1. -1. -1. -1. -1.  1.  1.  1.  1.]]\n",
      "[0.0]\n",
      "[[-1. -1. -1. -1.  1.  1.  1.  1. -1. -1. -1. -1.  1.  1.  1.  1.]]\n",
      "[0.0]\n",
      "[[-1. -1. -1. -1.  1.  1.  1.  1. -1. -1. -1. -1.  1.  1.  1.  1.]]\n",
      "[0.0]\n",
      "[[-1. -1. -1. -1.  1.  1.  1.  1. -1. -1. -1. -1.  1.  1.  1.  1.]]\n",
      "[0.0]\n",
      "[[-1. -1. -1. -1.  1.  1.  1.  1. -1. -1. -1. -1.  1.  1.  1.  1.]]\n",
      "[0.0]\n",
      "[[-1. -1. -1. -1.  1.  1.  1.  1. -1. -1. -1. -1.  1.  1.  1.  1.]]\n",
      "[0.0]\n",
      "[[-1. -1. -1. -1.  1.  1.  1.  1. -1. -1. -1. -1.  1.  1.  1.  1.]]\n",
      "[0.0]\n",
      "[[-1. -1. -1. -1.  1.  1.  1.  1. -1. -1. -1. -1.  1.  1.  1.  1.]]\n",
      "[0.0]\n"
     ]
    }
   ],
   "source": [
    "x = copy.deepcopy(x_orig)\n",
    "n_iters = 10\n",
    "for k in range(n_iters):\n",
    "    print(x)\n",
    "    x_new = Update(W, x, b)\n",
    "    print(Hamming(x, x_new))\n",
    "    x = x_new"
   ]
  },
  {
   "cell_type": "markdown",
   "metadata": {},
   "source": [
    "## How close are we to recalling a memory?"
   ]
  },
  {
   "cell_type": "code",
   "execution_count": 44,
   "metadata": {},
   "outputs": [
    {
     "name": "stdout",
     "output_type": "stream",
     "text": [
      "Memory 0 has error 8.0\n",
      "Memory 1 has error 16.0\n",
      "Memory 2 has error 8.0\n",
      "Memory 3 has error 8.0\n"
     ]
    }
   ],
   "source": [
    "for idx,t in enumerate(X):\n",
    "    d = Hamming(x, [t])[0]\n",
    "    print('Memory ' + str(idx) + ' has error ' + str(d))"
   ]
  }
 ],
 "metadata": {
  "kernelspec": {
   "display_name": "Python 3",
   "language": "python",
   "name": "python3"
  },
  "language_info": {
   "codemirror_mode": {
    "name": "ipython",
    "version": 3
   },
   "file_extension": ".py",
   "mimetype": "text/x-python",
   "name": "python",
   "nbconvert_exporter": "python",
   "pygments_lexer": "ipython3",
   "version": "3.11.1"
  },
  "toc": {
   "nav_menu": {},
   "number_sections": true,
   "sideBar": true,
   "skip_h1_title": false,
   "title_cell": "Table of Contents",
   "title_sidebar": "Contents",
   "toc_cell": false,
   "toc_position": {},
   "toc_section_display": true,
   "toc_window_display": false
  }
 },
 "nbformat": 4,
 "nbformat_minor": 2
}
